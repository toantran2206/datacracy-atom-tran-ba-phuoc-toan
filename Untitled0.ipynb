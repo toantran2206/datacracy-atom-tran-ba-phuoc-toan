{
  "nbformat": 4,
  "nbformat_minor": 0,
  "metadata": {
    "colab": {
      "name": "Untitled0.ipynb",
      "provenance": [],
      "authorship_tag": "ABX9TyMAPU7HrqXD8n9jgDF9qmPw",
      "include_colab_link": true
    },
    "kernelspec": {
      "name": "python3",
      "display_name": "Python 3"
    },
    "language_info": {
      "name": "python"
    }
  },
  "cells": [
    {
      "cell_type": "markdown",
      "metadata": {
        "id": "view-in-github",
        "colab_type": "text"
      },
      "source": [
        "<a href=\"https://colab.research.google.com/github/toantran2206/datacracy-atom-tran-ba-phuoc-toan/blob/main/Untitled0.ipynb\" target=\"_parent\"><img src=\"https://colab.research.google.com/assets/colab-badge.svg\" alt=\"Open In Colab\"/></a>"
      ]
    },
    {
      "cell_type": "code",
      "metadata": {
        "colab": {
          "base_uri": "https://localhost:8080/"
        },
        "id": "DeDy7tTkwSbT",
        "outputId": "b789a508-0e64-4472-b695-f4c8e5a031e0"
      },
      "source": [
        "# This program says hello and asks for my name\n",
        "print('Hello World!')\n",
        "print('What is your name?') # ask for their name\n",
        "myName = input()\n",
        "print('It is good to meet you, ' + myName)\n",
        "print('The length of your name is:')\n",
        "print(len(myName))\n",
        "print('What is your age?') # ask for their age\n",
        "myAge = input()\n",
        "print('You will be ' + str(int(myAge) + 1) + ' in a year.')"
      ],
      "execution_count": null,
      "outputs": [
        {
          "output_type": "stream",
          "text": [
            "Hello World!\n",
            "What is your name?\n",
            "Toan\n",
            "It is good to meet you, Toan\n",
            "The length of your name is:\n",
            "4\n",
            "What is your age?\n",
            "29\n",
            "You will be 30 in a year.\n"
          ],
          "name": "stdout"
        }
      ]
    }
  ]
}
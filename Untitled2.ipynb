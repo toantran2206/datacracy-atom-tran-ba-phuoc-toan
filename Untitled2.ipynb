{
  "nbformat": 4,
  "nbformat_minor": 0,
  "metadata": {
    "colab": {
      "name": "Untitled2.ipynb",
      "provenance": [],
      "authorship_tag": "ABX9TyNMFw+DfXrTOkzQm+FDPvau",
      "include_colab_link": true
    },
    "kernelspec": {
      "name": "python3",
      "display_name": "Python 3"
    },
    "language_info": {
      "name": "python"
    }
  },
  "cells": [
    {
      "cell_type": "markdown",
      "metadata": {
        "id": "view-in-github",
        "colab_type": "text"
      },
      "source": [
        "<a href=\"https://colab.research.google.com/github/toantran2206/datacracy-atom-tran-ba-phuoc-toan/blob/main/Untitled2.ipynb\" target=\"_parent\"><img src=\"https://colab.research.google.com/assets/colab-badge.svg\" alt=\"Open In Colab\"/></a>"
      ]
    },
    {
      "cell_type": "code",
      "metadata": {
        "colab": {
          "base_uri": "https://localhost:8080/",
          "height": 1000
        },
        "id": "jMfwZjz9q-ft",
        "outputId": "c08d0308-fdb9-4d24-955b-ba647671ea4f"
      },
      "source": [
        "import time, sys\n",
        "indent = 0 # How many space to indent\n",
        "indentIncreasing = True #Whether the indentation is increasing or not.\n",
        "\n",
        "try:\n",
        "  while True: # The main program loop.\n",
        "    print(' ' * indent, end='')\n",
        "    print('********')\n",
        "    time.sleep(0.1) # Pause for 1/10 of a second.\n",
        "\n",
        "    if indentIncreasing:\n",
        "      # Increase the number of spaces:\n",
        "      indent = indent + 1\n",
        "      if indent == 20:\n",
        "        # Change direction:\n",
        "        indentIncreasing = False # Change direction.\n",
        "    else:\n",
        "      # Decrease the number of spaces:\n",
        "      indent = indent - 1\n",
        "      if indent == 0:\n",
        "        # Change direction:\n",
        "        indentIncreasing = True\n",
        "except KeyboardInterrupt:\n",
        "  sys.exit()"
      ],
      "execution_count": null,
      "outputs": [
        {
          "output_type": "stream",
          "text": [
            "       ********\n",
            "        ********\n",
            "         ********\n",
            "          ********\n",
            "           ********\n",
            "            ********\n",
            "             ********\n",
            "              ********\n",
            "               ********\n",
            "                ********\n",
            "                 ********\n",
            "                  ********\n",
            "                   ********\n",
            "                    ********\n",
            "                   ********\n",
            "                  ********\n",
            "                 ********\n",
            "                ********\n",
            "               ********\n",
            "              ********\n",
            "             ********\n",
            "            ********\n",
            "           ********\n",
            "          ********\n",
            "         ********\n",
            "        ********\n",
            "       ********\n",
            "      ********\n",
            "     ********\n",
            "    ********\n",
            "   ********\n",
            "  ********\n",
            " ********\n",
            "********\n",
            " ********\n",
            "  ********\n",
            "   ********\n",
            "    ********\n",
            "     ********\n",
            "      ********\n",
            "       ********\n",
            "        ********\n",
            "         ********\n",
            "          ********\n",
            "           ********\n",
            "            ********\n",
            "             ********\n",
            "              ********\n",
            "               ********\n",
            "                ********\n",
            "                 ********\n",
            "                  ********\n",
            "                   ********\n",
            "                    ********\n",
            "                   ********\n",
            "                  ********\n",
            "                 ********\n",
            "                ********\n"
          ],
          "name": "stdout"
        },
        {
          "output_type": "error",
          "ename": "SystemExit",
          "evalue": "ignored",
          "traceback": [
            "An exception has occurred, use %tb to see the full traceback.\n",
            "\u001b[0;31mSystemExit\u001b[0m\n"
          ]
        },
        {
          "output_type": "stream",
          "text": [
            "/usr/local/lib/python3.7/dist-packages/IPython/core/interactiveshell.py:2890: UserWarning: To exit: use 'exit', 'quit', or Ctrl-D.\n",
            "  warn(\"To exit: use 'exit', 'quit', or Ctrl-D.\", stacklevel=1)\n"
          ],
          "name": "stderr"
        }
      ]
    }
  ]
}